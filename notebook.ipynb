{
    "cells": [
        {
            "cell_type": "code",
            "execution_count": 1,
            "source": [
                "from model.TrafficModel import TrafficModel\r\n",
                "import agentpy as ap\r\n",
                "import matplotlib.pyplot as plt\r\n",
                "import numpy as np\r\n",
                "import IPython\r\n",
                "print(\"**Multiagent Traffic System Simulator**\")\r\n",
                "print(\"Team No.6\")\r\n",
                "\r\n",
                "# Parameters\r\n",
                "parameters = {\r\n",
                "    \"size\" : 30,\r\n",
                "    \"cars\" : 10,\r\n",
                "    \"max_inertia\" : 2,\r\n",
                "    \"max_humans\": 12,\r\n",
                "    \"safe_distance\": 4,\r\n",
                "    \"steps\" : 100\r\n",
                "}\r\n",
                "\r\n",
                "tModel = TrafficModel(parameters)\r\n",
                "tModel.steps = 100\r\n",
                "tModel.setup()\r\n",
                "def my_plot(m, ax):\r\n",
                "    ax.set_title(\"Traffic Model\")\r\n",
                "    ax.set_xlim([0, parameters[\"size\"]])\r\n",
                "    ax.set_ylim([0, parameters[\"size\"]])\r\n",
                "    ax.set_xticks(np.arange(0,parameters[\"size\"], 1))\r\n",
                "    ax.set_yticks(np.arange(0,parameters[\"size\"], 1))\r\n",
                "    ax.grid(True)\r\n",
                "    pos = m.space.positions.values()\r\n",
                "    pos = np.array(list(pos)).T\r\n",
                "    ax.scatter(*pos, s=5, c='black')\r\n",
                "    ax.set_aspect('equal')\r\n",
                "    ax.set_xlabel(\"X\")\r\n",
                "    ax.set_ylabel(\"Y\")\r\n",
                "\r\n",
                "def animation():\r\n",
                "    fig, ax = plt.subplots()\r\n",
                "    anim = ap.animate(tModel,fig, ax, my_plot)\r\n",
                "    return IPython.display.HTML(anim.to_jshtml(fps=60))\r\n",
                "animation()"
            ],
            "outputs": [],
            "metadata": {}
        }
    ],
    "metadata": {
        "orig_nbformat": 4,
        "language_info": {
            "name": "python",
            "version": "3.9.2",
            "mimetype": "text/x-python",
            "codemirror_mode": {
                "name": "ipython",
                "version": 3
            },
            "pygments_lexer": "ipython3",
            "nbconvert_exporter": "python",
            "file_extension": ".py"
        },
        "kernelspec": {
            "name": "python3",
            "display_name": "Python 3.9.2 64-bit"
        },
        "interpreter": {
            "hash": "67f14effc33949d46c8b00e494b259194f2195277664e374c337f46d77271f72"
        }
    },
    "nbformat": 4,
    "nbformat_minor": 2
}